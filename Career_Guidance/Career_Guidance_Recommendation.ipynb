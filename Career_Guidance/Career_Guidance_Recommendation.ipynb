{
 "cells": [
  {
   "cell_type": "code",
   "execution_count": 1,
   "id": "b5c9907f-c1f8-45f4-870c-ae3435987b35",
   "metadata": {},
   "outputs": [
    {
     "name": "stdout",
     "output_type": "stream",
     "text": [
      "   Unnamed: 0                                         Key Skills   \n",
      "0           0                      Media Planning| Digital Media  \\\n",
      "1           1   pre sales| closing| software knowledge| clien...   \n",
      "2           2   Computer science| Fabrication| Quality check|...   \n",
      "3           3                                  Technical Support   \n",
      "4           4   manual testing| test engineering| test cases|...   \n",
      "\n",
      "                                     Category   \n",
      "0                                 Advertising  \\\n",
      "1                                Retail Sales   \n",
      "2                                         R&D   \n",
      "3  Admin/Maintenance/Security/Datawarehousing   \n",
      "4                        Programming & Design   \n",
      "\n",
      "                                                Area   \n",
      "0  Marketing , Advertising , MR , PR , Media Plan...  \\\n",
      "1              Sales , Retail , Business Development   \n",
      "2                           Engineering Design , R&D   \n",
      "3  IT Software - Application Programming , Mainte...   \n",
      "4                         IT Software - QA & Testing   \n",
      "\n",
      "                                Industry                             Title  \n",
      "0  Advertising, PR, MR, Event Management  Media Planning Executive/Manager  \n",
      "1         IT-Software, Software Services           Sales Executive/Officer  \n",
      "2                  Recruitment, Staffing                     R&D Executive  \n",
      "3         IT-Software, Software Services        Technical Support Engineer  \n",
      "4         IT-Software, Software Services                  Testing Engineer  \n"
     ]
    }
   ],
   "source": [
    "import pandas as pd\n",
    "from sklearn.metrics.pairwise import cosine_similarity\n",
    "\n",
    "data = pd.read_csv('career_path.csv')\n",
    "print(data.head())"
   ]
  },
  {
   "cell_type": "code",
   "execution_count": 2,
   "id": "cfc200f5-6488-4208-8ae3-8af1778a611a",
   "metadata": {
    "tags": []
   },
   "outputs": [],
   "source": [
    "from sklearn.feature_extraction.text import TfidfVectorizer\n",
    "import pandas as pd\n",
    "from sklearn.metrics.pairwise import cosine_similarity\n",
    "\n",
    "data = pd.read_csv('career_path.csv')\n",
    "documents = data[\"Key Skills\"].tolist()\n",
    "\n",
    "tfidf = TfidfVectorizer(stop_words=\"english\")\n",
    "tfidf_matrix = tfidf.fit_transform(documents)\n",
    "similarity = cosine_similarity(tfidf_matrix)"
   ]
  },
  {
   "cell_type": "code",
   "execution_count": 3,
   "id": "271b1f40-faed-4e62-8457-8b6fdb03c1bb",
   "metadata": {},
   "outputs": [],
   "source": [
    "indices = pd.Series(data.index, index=data['Title']).drop_duplicates()"
   ]
  },
  {
   "cell_type": "code",
   "execution_count": 4,
   "id": "c045d14a-3db2-44ed-ae1b-985e089c92b2",
   "metadata": {
    "tags": []
   },
   "outputs": [
    {
     "name": "stdout",
     "output_type": "stream",
     "text": [
      "                                           Title   \n",
      "6249          Sales/Business Development Manager  \\\n",
      "6248                          Software Developer   \n",
      "6247  Associate/Senior Associate -(NonTechnical)   \n",
      "6246                          Software Developer   \n",
      "6245  Associate/Senior Associate -(NonTechnical)   \n",
      "\n",
      "                                             Key Skills  \n",
      "6249   Networking| Printing| Aerospace| Raw material...  \n",
      "6248   PHP| MVC| Laravel| AWS| SDLC| Wordpress| LAMP...  \n",
      "6247   Data analysis| Investment banking| Financial ...  \n",
      "6246   Coding| Wordpress| Commerce| HTML| Troublesho...  \n",
      "6245   client servicing| client support| background ...  \n"
     ]
    }
   ],
   "source": [
    "def career_recommendation(Title, similarity = similarity):\n",
    "    index = indices[Title]\n",
    "    similarity_scores = list(enumerate(similarity[index]))\n",
    "    similarity_scores = sorted(similarity_scores, key=lambda x: x[::], reverse=True)\n",
    "    similarity_scores = similarity_scores[0:5]\n",
    "    newsindices = [i[0] for i in similarity_scores]\n",
    "    return data[['Title','Key Skills']].iloc[newsindices]\n",
    "\n",
    "print(career_recommendation(\"Software Developer\"))"
   ]
  },
  {
   "cell_type": "code",
   "execution_count": null,
   "id": "0529d753-862f-4589-b97a-94ea67d8cafc",
   "metadata": {},
   "outputs": [],
   "source": []
  }
 ],
 "metadata": {
  "kernelspec": {
   "display_name": "Python 3 (ipykernel)",
   "language": "python",
   "name": "python3"
  },
  "language_info": {
   "codemirror_mode": {
    "name": "ipython",
    "version": 3
   },
   "file_extension": ".py",
   "mimetype": "text/x-python",
   "name": "python",
   "nbconvert_exporter": "python",
   "pygments_lexer": "ipython3",
   "version": "3.10.9"
  }
 },
 "nbformat": 4,
 "nbformat_minor": 5
}
